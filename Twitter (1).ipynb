{
 "cells": [
  {
   "cell_type": "markdown",
   "id": "b9bcab73",
   "metadata": {},
   "source": [
    "Submitted by:\n",
    "    Gursanjam Kaur (C0788089)"
   ]
  },
  {
   "cell_type": "code",
   "execution_count": 1,
   "id": "442d1a3b",
   "metadata": {},
   "outputs": [],
   "source": [
    "# Importing libraries\n",
    "import tweepy as tw\n",
    "import pandas as pd\n",
    "import time\n",
    "import os.path"
   ]
  },
  {
   "cell_type": "markdown",
   "id": "113d793a",
   "metadata": {},
   "source": [
    "## 1. Connecting to twitter"
   ]
  },
  {
   "cell_type": "code",
   "execution_count": 2,
   "id": "5eb1fbdc",
   "metadata": {},
   "outputs": [],
   "source": [
    "# Secret keys\n",
    "consumer_key=\"phqNgX3Yvlk1DbS1GUQhgeTRW\"\n",
    "consumer_secret=\"CHn6y9RGrBuAbYvpYDVyOtNglMr7eSRHmrZQGu6osC8Dhje7x8\"\n",
    "access_token=\"1356231156853846017-SIv5svY0WkgIEJWKOyzU8Ismmnbfa4\"\n",
    "access_token_secret=\"ZRSfzbMI5DpFXRq8YY3SCd2q0GBqloPIUikrn1jMT59hr\""
   ]
  },
  {
   "cell_type": "code",
   "execution_count": 3,
   "id": "dd6c698e",
   "metadata": {},
   "outputs": [],
   "source": [
    "# Authenticating\n",
    "auth = tw.OAuthHandler(consumer_key, consumer_secret)\n",
    "auth.set_access_token(access_token, access_token_secret)\n",
    "api = tw.API(auth,wait_on_rate_limit=True )"
   ]
  },
  {
   "cell_type": "markdown",
   "id": "87056bdf",
   "metadata": {},
   "source": [
    "## 2. Collecting data"
   ]
  },
  {
   "cell_type": "code",
   "execution_count": 4,
   "id": "3bfc0272",
   "metadata": {},
   "outputs": [],
   "source": [
    "# Collect the tweets from given timeline\n",
    "def collect_data(user_name,count=1000):\n",
    "    tweet_df = pd.DataFrame(columns=['username', 'location','tweet'])\n",
    "    tweet_dict = dict()\n",
    "    \n",
    "    tweets = tw.Cursor(api.user_timeline,id=user_name,\n",
    "                           include_rts = False, exclude_replies=True,\n",
    "                           tweet_mode='extended').items(count)\n",
    "    for tweet in tweets:\n",
    "        tweet_dict['username'] = tweet.user.screen_name\n",
    "        tweet_dict['location'] = tweet.user.location\n",
    "        tweet_dict['tweet'] = tweet.full_text\n",
    "        tweet_df = tweet_df.append(tweet_dict, ignore_index=True)\n",
    "    \n",
    "    return tweet_df"
   ]
  },
  {
   "cell_type": "code",
   "execution_count": 5,
   "id": "dbfc8968",
   "metadata": {},
   "outputs": [],
   "source": [
    "# Collect tweet from disney\n",
    "tweet_df = collect_data('@disney',2500)\n",
    "# Take backup\n",
    "source_df = tweet_df.copy()\n",
    "tweet_df.to_csv('disney.csv',index=False)"
   ]
  },
  {
   "cell_type": "markdown",
   "id": "4c8eb224",
   "metadata": {},
   "source": [
    "## 3. Data Preprocessing"
   ]
  },
  {
   "cell_type": "markdown",
   "id": "16acab22",
   "metadata": {},
   "source": [
    "### Data Cleaning"
   ]
  },
  {
   "cell_type": "code",
   "execution_count": 6,
   "id": "39e45659",
   "metadata": {},
   "outputs": [],
   "source": [
    "# Importing libraries\n",
    "from bs4 import BeautifulSoup\n",
    "import contractions\n",
    "import re"
   ]
  },
  {
   "cell_type": "code",
   "execution_count": 7,
   "id": "2aaa2870",
   "metadata": {},
   "outputs": [],
   "source": [
    "# remove link\n",
    "def remove_links(text):\n",
    "    text = re.sub(r'https?:\\/\\/.*[ ]*', '', text)\n",
    "    return text\n",
    "\n",
    "# remove numbers\n",
    "def remove_numbers(text):\n",
    "    return re.sub(r'[0-9]+', '', text)\n",
    "\n",
    "\n",
    "# remove space,newlines\n",
    "def remove_slash(text):\n",
    "    return re.sub(r'[\\n,\\b,\\t]', '', text)\n",
    "\n",
    "# remove HTML tag\n",
    "def remove_html_tags(text):\n",
    "    soup = BeautifulSoup(text, \"html.parser\")\n",
    "    text = soup.get_text(separator=\" \")\n",
    "    return text\n",
    "\n",
    "# remove contractions\n",
    "def remove_contractions(text):\n",
    "    return contractions.fix(text)\n",
    "\n",
    "# remove non-alpha\n",
    "def remove_nonalpha(text):\n",
    "    text = re.sub(r'[^\\w]', ' ', text)\n",
    "    text = re.sub(r'_', '', text)\n",
    "    return text\n",
    "\n",
    "# remove space\n",
    "def remove_space(text):\n",
    "    return re.sub(r' +', ' ', text)\n",
    "\n",
    "# lower case\n",
    "def convert_lower(text):\n",
    "    return text.lower()"
   ]
  },
  {
   "cell_type": "code",
   "execution_count": 8,
   "id": "cd025e14",
   "metadata": {},
   "outputs": [],
   "source": [
    "# Clean the data\n",
    "def clean_data(tweet_df):\n",
    "    tweet_df['tweet'] = tweet_df['tweet'].apply(remove_html_tags)\n",
    "    tweet_df['tweet'] = tweet_df['tweet'].apply(remove_numbers)\n",
    "    tweet_df['tweet'] = tweet_df['tweet'].apply(remove_links)\n",
    "    tweet_df['tweet'] = tweet_df['tweet'].apply(remove_slash)\n",
    "    tweet_df['tweet'] = tweet_df['tweet'].apply(remove_contractions)\n",
    "    tweet_df['tweet'] = tweet_df['tweet'].apply(remove_nonalpha)\n",
    "    tweet_df['tweet'] = tweet_df['tweet'].apply(remove_space)\n",
    "    tweet_df['tweet'] = tweet_df['tweet'].apply(convert_lower)\n",
    "    \n",
    "    return tweet_df"
   ]
  },
  {
   "cell_type": "code",
   "execution_count": 9,
   "id": "1d9d3ca2",
   "metadata": {},
   "outputs": [],
   "source": [
    "tweet_df = clean_data(tweet_df)"
   ]
  },
  {
   "cell_type": "markdown",
   "id": "1a4eab98",
   "metadata": {},
   "source": [
    "### Stop word removal and stemming"
   ]
  },
  {
   "cell_type": "code",
   "execution_count": 10,
   "id": "f5d199cc",
   "metadata": {},
   "outputs": [],
   "source": [
    "# Importing libraries\n",
    "from nltk.corpus import stopwords\n",
    "from nltk.stem import PorterStemmer\n",
    "from nltk.tokenize import word_tokenize"
   ]
  },
  {
   "cell_type": "code",
   "execution_count": 11,
   "id": "8636e00c",
   "metadata": {},
   "outputs": [],
   "source": [
    "# remove stop word\n",
    "def remove_stop_words(text):\n",
    "\n",
    "    removed_list = []\n",
    "\n",
    "    for token in text.split():\n",
    "\n",
    "        if token not in stopwords.words('english'):\n",
    "            removed_list.append(token)\n",
    "\n",
    "    return \" \".join(removed_list)\n",
    "\n",
    "\n",
    "# stemming\n",
    "def stemming(text):\n",
    "    ps = PorterStemmer()\n",
    "    return [ps.stem(word) for word in word_tokenize(text)]"
   ]
  },
  {
   "cell_type": "code",
   "execution_count": 12,
   "id": "8a064d8f",
   "metadata": {},
   "outputs": [],
   "source": [
    "tweet_df['tweet'] = tweet_df['tweet'].apply(remove_stop_words)\n",
    "tweet_df['tweet'] = tweet_df['tweet'].apply(stemming)"
   ]
  },
  {
   "cell_type": "code",
   "execution_count": 13,
   "id": "9514a662",
   "metadata": {},
   "outputs": [],
   "source": [
    "# Preprocess function\n",
    "def preprocess(text):\n",
    "    text = remove_html_tags(text)\n",
    "    text = remove_numbers(text)\n",
    "    text = remove_links(text)\n",
    "    text = remove_slash(text)\n",
    "    text = remove_contractions(text)\n",
    "    text = remove_nonalpha(text)\n",
    "    text = remove_space(text)\n",
    "    text = convert_lower(text)\n",
    "    text = remove_stop_words(text)\n",
    "    text = stemming(text)\n",
    "    \n",
    "    return text"
   ]
  },
  {
   "cell_type": "markdown",
   "id": "a0e120f7",
   "metadata": {},
   "source": [
    "### Bag of Words on the Data set"
   ]
  },
  {
   "cell_type": "code",
   "execution_count": 14,
   "id": "72c2209b",
   "metadata": {},
   "outputs": [],
   "source": [
    "#!pip install gensim"
   ]
  },
  {
   "cell_type": "code",
   "execution_count": 15,
   "id": "03c5a116",
   "metadata": {},
   "outputs": [
    {
     "name": "stderr",
     "output_type": "stream",
     "text": [
      "C:\\Users\\ram\\anaconda3\\lib\\site-packages\\gensim\\similarities\\__init__.py:15: UserWarning: The gensim.similarities.levenshtein submodule is disabled, because the optional Levenshtein package <https://pypi.org/project/python-Levenshtein/> is unavailable. Install Levenhstein (e.g. `pip install python-Levenshtein`) to suppress this warning.\n",
      "  warnings.warn(msg)\n"
     ]
    }
   ],
   "source": [
    "import gensim"
   ]
  },
  {
   "cell_type": "code",
   "execution_count": 16,
   "id": "cf5247ea",
   "metadata": {},
   "outputs": [
    {
     "name": "stdout",
     "output_type": "stream",
     "text": [
      "0 blunt\n",
      "1 catch\n",
      "2 co\n",
      "3 could\n",
      "4 disneyland\n",
      "5 dwayn\n",
      "6 emili\n",
      "7 fan\n",
      "8 fellow\n",
      "9 jack\n",
      "10 johnson\n"
     ]
    }
   ],
   "source": [
    "# Create a corpora dictonary\n",
    "dictionary = gensim.corpora.Dictionary(tweet_df['tweet'])\n",
    "count = 0\n",
    "for k, v in dictionary.iteritems():\n",
    "    print(k, v)\n",
    "    count += 1\n",
    "    if count > 10:\n",
    "        break"
   ]
  },
  {
   "cell_type": "code",
   "execution_count": 17,
   "id": "8bbfbfe7",
   "metadata": {},
   "outputs": [],
   "source": [
    "# filter the extremes\n",
    "dictionary.filter_extremes(no_below=15, no_above=0.5, keep_n=100000)"
   ]
  },
  {
   "cell_type": "code",
   "execution_count": 18,
   "id": "a8550b4e",
   "metadata": {},
   "outputs": [
    {
     "data": {
      "text/plain": [
       "[(6, 1), (24, 1), (32, 1), (39, 1)]"
      ]
     },
     "execution_count": 18,
     "metadata": {},
     "output_type": "execute_result"
    }
   ],
   "source": [
    "# create bow corpus\n",
    "bow_corpus = [dictionary.doc2bow(doc) for doc in tweet_df['tweet']]\n",
    "bow_corpus[10]"
   ]
  },
  {
   "cell_type": "code",
   "execution_count": 19,
   "id": "a07a02f8",
   "metadata": {},
   "outputs": [
    {
     "name": "stdout",
     "output_type": "stream",
     "text": [
      "Word 6 (\"disneyplu\") appears 1 time.\n",
      "Word 24 (\"new\") appears 1 time.\n",
      "Word 32 (\"stream\") appears 1 time.\n",
      "Word 39 (\"episod\") appears 1 time.\n"
     ]
    }
   ],
   "source": [
    "# Printing the words and occurance from bow\n",
    "bow_doc_10 = bow_corpus[10]\n",
    "for i in range(len(bow_doc_10)):\n",
    "    print(\"Word {} (\\\"{}\\\") appears {} time.\".format(bow_doc_10[i][0], \n",
    "                                               dictionary[bow_doc_10[i][0]], \n",
    "bow_doc_10[i][1]))"
   ]
  },
  {
   "cell_type": "markdown",
   "id": "505c2d47",
   "metadata": {},
   "source": [
    "### Td-Idf"
   ]
  },
  {
   "cell_type": "code",
   "execution_count": 20,
   "id": "051cc1d4",
   "metadata": {},
   "outputs": [
    {
     "name": "stdout",
     "output_type": "stream",
     "text": [
      "[(0, 0.5739877616104178), (1, 0.5739877616104178), (2, 0.5840172078311774)]\n"
     ]
    }
   ],
   "source": [
    "from gensim import corpora, models\n",
    "\n",
    "# Create a Tf-Idf model from BOW\n",
    "tfidf = models.TfidfModel(bow_corpus)\n",
    "corpus_tfidf = tfidf[bow_corpus]\n",
    "from pprint import pprint\n",
    "for doc in corpus_tfidf:\n",
    "    pprint(doc)\n",
    "    break"
   ]
  },
  {
   "cell_type": "markdown",
   "id": "ad6f8538",
   "metadata": {},
   "source": [
    "## 3. LDA"
   ]
  },
  {
   "cell_type": "markdown",
   "id": "d2d84867",
   "metadata": {},
   "source": [
    "### LDA using BOW"
   ]
  },
  {
   "cell_type": "code",
   "execution_count": 21,
   "id": "96684ea4",
   "metadata": {},
   "outputs": [],
   "source": [
    "# LDA model using BOW\n",
    "lda_model = gensim.models.LdaMulticore(bow_corpus, num_topics=15, id2word=dictionary, passes=2, workers=2)"
   ]
  },
  {
   "cell_type": "code",
   "execution_count": 22,
   "id": "4dccd679",
   "metadata": {},
   "outputs": [
    {
     "name": "stdout",
     "output_type": "stream",
     "text": [
      "Topic: 0 \n",
      "Words: 0.101*\"disneyplu\" + 0.087*\"stream\" + 0.083*\"episod\" + 0.052*\"marvel\" + 0.048*\"studio\" + 0.043*\"loki\" + 0.042*\"marvelstudio\" + 0.038*\"start\" + 0.038*\"new\" + 0.034*\"seri\"\n",
      "Topic: 1 \n",
      "Words: 0.081*\"experi\" + 0.071*\"disneyplu\" + 0.063*\"studio\" + 0.060*\"marvel\" + 0.056*\"theater\" + 0.048*\"stream\" + 0.033*\"marvelstudio\" + 0.030*\"new\" + 0.029*\"order\" + 0.028*\"start\"\n",
      "Topic: 2 \n",
      "Words: 0.050*\"art\" + 0.049*\"disney\" + 0.049*\"theater\" + 0.045*\"access\" + 0.045*\"premier\" + 0.041*\"see\" + 0.039*\"disneyplu\" + 0.039*\"magic\" + 0.038*\"time\" + 0.033*\"dragon\"\n",
      "Topic: 3 \n",
      "Words: 0.163*\"make\" + 0.089*\"look\" + 0.053*\"disney\" + 0.043*\"magic\" + 0.032*\"everi\" + 0.031*\"film\" + 0.030*\"disneydecad\" + 0.028*\"scene\" + 0.027*\"art\" + 0.025*\"stream\"\n",
      "Topic: 4 \n",
      "Words: 0.085*\"magic\" + 0.076*\"celebr\" + 0.059*\"new\" + 0.048*\"disneyplu\" + 0.040*\"world\" + 0.036*\"stream\" + 0.034*\"studio\" + 0.033*\"trailer\" + 0.030*\"go\" + 0.028*\"marvel\"\n",
      "Topic: 5 \n",
      "Words: 0.123*\"disneyplu\" + 0.106*\"stream\" + 0.075*\"origin\" + 0.072*\"seri\" + 0.060*\"start\" + 0.050*\"juli\" + 0.050*\"best\" + 0.031*\"get\" + 0.029*\"cast\" + 0.027*\"readi\"\n",
      "Topic: 6 \n",
      "Words: 0.147*\"happi\" + 0.135*\"anniversari\" + 0.101*\"day\" + 0.056*\"celebr\" + 0.055*\"th\" + 0.045*\"us\" + 0.033*\"year\" + 0.030*\"littl\" + 0.026*\"disney\" + 0.024*\"get\"\n",
      "Topic: 7 \n",
      "Words: 0.112*\"come\" + 0.090*\"disneyplu\" + 0.072*\"new\" + 0.045*\"stream\" + 0.045*\"littl\" + 0.034*\"cruella\" + 0.033*\"may\" + 0.029*\"adventur\" + 0.028*\"origin\" + 0.027*\"pixarsoul\"\n",
      "Topic: 8 \n",
      "Words: 0.136*\"disneyplu\" + 0.128*\"stream\" + 0.048*\"film\" + 0.044*\"new\" + 0.042*\"stori\" + 0.040*\"pixar\" + 0.030*\"pixarluca\" + 0.027*\"short\" + 0.027*\"get\" + 0.022*\"season\"\n",
      "Topic: 9 \n",
      "Words: 0.073*\"order\" + 0.061*\"premier\" + 0.060*\"access\" + 0.058*\"theater\" + 0.054*\"see\" + 0.042*\"get\" + 0.040*\"disneyplu\" + 0.039*\"raya\" + 0.035*\"cruella\" + 0.033*\"ticket\"\n",
      "Topic: 10 \n",
      "Words: 0.079*\"miss\" + 0.070*\"disneyplu\" + 0.052*\"stream\" + 0.050*\"pixar\" + 0.047*\"cast\" + 0.044*\"togeth\" + 0.040*\"disney\" + 0.029*\"watch\" + 0.029*\"adventur\" + 0.024*\"seri\"\n",
      "Topic: 11 \n",
      "Words: 0.088*\"new\" + 0.060*\"disney\" + 0.043*\"disneyplu\" + 0.037*\"year\" + 0.034*\"disneyland\" + 0.032*\"stream\" + 0.032*\"resort\" + 0.029*\"adventur\" + 0.026*\"scene\" + 0.026*\"friend\"\n",
      "Topic: 12 \n",
      "Words: 0.096*\"disneydecad\" + 0.083*\"disneyplu\" + 0.075*\"stream\" + 0.057*\"new\" + 0.040*\"time\" + 0.037*\"marvelstudio\" + 0.037*\"seri\" + 0.035*\"origin\" + 0.034*\"start\" + 0.031*\"disney\"\n",
      "Topic: 13 \n",
      "Words: 0.100*\"stream\" + 0.098*\"watch\" + 0.087*\"disneyplu\" + 0.071*\"pixarluca\" + 0.065*\"new\" + 0.057*\"trailer\" + 0.048*\"summer\" + 0.034*\"june\" + 0.033*\"start\" + 0.029*\"brand\"\n",
      "Topic: 14 \n",
      "Words: 0.120*\"disney\" + 0.092*\"disneyplu\" + 0.091*\"new\" + 0.084*\"stream\" + 0.045*\"check\" + 0.035*\"brand\" + 0.029*\"look\" + 0.025*\"like\" + 0.025*\"start\" + 0.021*\"pixarsoul\"\n"
     ]
    }
   ],
   "source": [
    "# Print the topics and weightage\n",
    "for idx, topic in lda_model.print_topics(-1):\n",
    "    print('Topic: {} \\nWords: {}'.format(idx, topic))"
   ]
  },
  {
   "cell_type": "markdown",
   "id": "bc97ca26",
   "metadata": {},
   "source": [
    "### Using TD-IDF"
   ]
  },
  {
   "cell_type": "code",
   "execution_count": 23,
   "id": "56b23411",
   "metadata": {},
   "outputs": [
    {
     "name": "stdout",
     "output_type": "stream",
     "text": [
      "Topic: 0 Word: 0.073*\"disneydecad\" + 0.053*\"seri\" + 0.050*\"time\" + 0.050*\"marvelstudio\" + 0.049*\"stream\" + 0.047*\"disneyplu\" + 0.043*\"origin\" + 0.029*\"start\" + 0.025*\"wandavis\" + 0.024*\"falconandwintersoldi\"\n",
      "Topic: 1 Word: 0.038*\"theater\" + 0.037*\"cruella\" + 0.034*\"disney\" + 0.034*\"go\" + 0.032*\"fee\" + 0.032*\"addit\" + 0.032*\"requir\" + 0.031*\"brand\" + 0.031*\"meet\" + 0.029*\"access\"\n",
      "Topic: 2 Word: 0.104*\"one\" + 0.086*\"celebr\" + 0.044*\"art\" + 0.043*\"best\" + 0.040*\"raya\" + 0.039*\"pixarsoul\" + 0.038*\"learn\" + 0.037*\"last\" + 0.036*\"order\" + 0.033*\"scene\"\n",
      "Topic: 3 Word: 0.056*\"episod\" + 0.048*\"studio\" + 0.044*\"start\" + 0.043*\"seri\" + 0.043*\"loki\" + 0.042*\"stream\" + 0.041*\"disneyplu\" + 0.041*\"origin\" + 0.039*\"marvel\" + 0.033*\"us\"\n",
      "Topic: 4 Word: 0.063*\"short\" + 0.062*\"film\" + 0.061*\"best\" + 0.059*\"life\" + 0.043*\"pixarluca\" + 0.040*\"origin\" + 0.039*\"new\" + 0.038*\"stream\" + 0.037*\"trailer\" + 0.036*\"watch\"\n",
      "Topic: 5 Word: 0.116*\"anniversari\" + 0.090*\"happi\" + 0.070*\"pixar\" + 0.055*\"th\" + 0.047*\"celebr\" + 0.044*\"day\" + 0.041*\"time\" + 0.036*\"disneydecad\" + 0.034*\"art\" + 0.033*\"togeth\"\n",
      "Topic: 6 Word: 0.059*\"stream\" + 0.053*\"disneyplu\" + 0.051*\"watch\" + 0.047*\"episod\" + 0.030*\"marvelstudio\" + 0.030*\"pixarluca\" + 0.030*\"two\" + 0.028*\"start\" + 0.028*\"trailer\" + 0.027*\"soldier\"\n",
      "Topic: 7 Word: 0.098*\"season\" + 0.080*\"new\" + 0.069*\"get\" + 0.055*\"year\" + 0.050*\"stream\" + 0.047*\"cast\" + 0.041*\"disneyplu\" + 0.041*\"readi\" + 0.034*\"magic\" + 0.026*\"may\"\n",
      "Topic: 8 Word: 0.079*\"learn\" + 0.061*\"stori\" + 0.057*\"raya\" + 0.056*\"last\" + 0.054*\"dragon\" + 0.049*\"see\" + 0.040*\"watch\" + 0.032*\"disneyplu\" + 0.028*\"theater\" + 0.028*\"premier\"\n",
      "Topic: 9 Word: 0.064*\"make\" + 0.052*\"moment\" + 0.051*\"experi\" + 0.048*\"miss\" + 0.031*\"pixarsoul\" + 0.030*\"ticket\" + 0.030*\"marvelstudio\" + 0.029*\"stream\" + 0.027*\"junglecruis\" + 0.027*\"order\"\n",
      "Topic: 10 Word: 0.045*\"year\" + 0.044*\"juli\" + 0.036*\"disney\" + 0.034*\"world\" + 0.031*\"new\" + 0.031*\"season\" + 0.029*\"winter\" + 0.029*\"magic\" + 0.027*\"time\" + 0.026*\"join\"\n",
      "Topic: 11 Word: 0.060*\"park\" + 0.059*\"disneyland\" + 0.047*\"star\" + 0.044*\"disney\" + 0.042*\"art\" + 0.041*\"friend\" + 0.036*\"world\" + 0.036*\"resort\" + 0.029*\"may\" + 0.029*\"adventur\"\n",
      "Topic: 12 Word: 0.098*\"look\" + 0.065*\"happi\" + 0.040*\"disney\" + 0.035*\"pixar\" + 0.034*\"like\" + 0.029*\"pixarsoul\" + 0.028*\"new\" + 0.027*\"adventur\" + 0.026*\"disneyplu\" + 0.026*\"cast\"\n",
      "Topic: 13 Word: 0.152*\"day\" + 0.106*\"disney\" + 0.062*\"littl\" + 0.042*\"magic\" + 0.040*\"disneydecad\" + 0.040*\"never\" + 0.034*\"summer\" + 0.034*\"open\" + 0.030*\"us\" + 0.028*\"happi\"\n",
      "Topic: 14 Word: 0.159*\"like\" + 0.082*\"friend\" + 0.048*\"pixarluca\" + 0.042*\"tomorrow\" + 0.042*\"littl\" + 0.041*\"check\" + 0.039*\"june\" + 0.032*\"summer\" + 0.028*\"start\" + 0.026*\"disneyplu\"\n"
     ]
    }
   ],
   "source": [
    "# LDA model using td-idf\n",
    "lda_model_tfidf = gensim.models.LdaMulticore(corpus_tfidf, num_topics=15, id2word=dictionary, passes=2, workers=4)\n",
    "for idx, topic in lda_model_tfidf.print_topics(-1):\n",
    "    print('Topic: {} Word: {}'.format(idx, topic))"
   ]
  },
  {
   "cell_type": "markdown",
   "id": "24a12e9f",
   "metadata": {},
   "source": [
    "## 4. Performance evaluation"
   ]
  },
  {
   "cell_type": "code",
   "execution_count": 24,
   "id": "9f203cb0",
   "metadata": {},
   "outputs": [
    {
     "data": {
      "text/plain": [
       "['enrol',\n",
       " 'mike',\n",
       " 'comedi',\n",
       " 'class',\n",
       " 'yet',\n",
       " 'funni',\n",
       " 'scari',\n",
       " 'stream',\n",
       " 'new',\n",
       " 'episod',\n",
       " 'monstersatwork',\n",
       " 'disneyplu']"
      ]
     },
     "execution_count": 24,
     "metadata": {},
     "output_type": "execute_result"
    }
   ],
   "source": [
    "# Printing the words of 11th tweet\n",
    "tweet_df['tweet'][10]"
   ]
  },
  {
   "cell_type": "markdown",
   "id": "2557db73",
   "metadata": {},
   "source": [
    "### BOW"
   ]
  },
  {
   "cell_type": "code",
   "execution_count": 25,
   "id": "bd70d045",
   "metadata": {},
   "outputs": [
    {
     "name": "stdout",
     "output_type": "stream",
     "text": [
      "\n",
      "Score: 0.8133326172828674\t \n",
      "Topic: 0.101*\"disneyplu\" + 0.087*\"stream\" + 0.083*\"episod\" + 0.052*\"marvel\" + 0.048*\"studio\" + 0.043*\"loki\" + 0.042*\"marvelstudio\" + 0.038*\"start\" + 0.038*\"new\" + 0.034*\"seri\"\n",
      "\n",
      "Score: 0.013333403505384922\t \n",
      "Topic: 0.136*\"disneyplu\" + 0.128*\"stream\" + 0.048*\"film\" + 0.044*\"new\" + 0.042*\"stori\" + 0.040*\"pixar\" + 0.030*\"pixarluca\" + 0.027*\"short\" + 0.027*\"get\" + 0.022*\"season\"\n",
      "\n",
      "Score: 0.013333401642739773\t \n",
      "Topic: 0.120*\"disney\" + 0.092*\"disneyplu\" + 0.091*\"new\" + 0.084*\"stream\" + 0.045*\"check\" + 0.035*\"brand\" + 0.029*\"look\" + 0.025*\"like\" + 0.025*\"start\" + 0.021*\"pixarsoul\"\n",
      "\n",
      "Score: 0.0133333969861269\t \n",
      "Topic: 0.100*\"stream\" + 0.098*\"watch\" + 0.087*\"disneyplu\" + 0.071*\"pixarluca\" + 0.065*\"new\" + 0.057*\"trailer\" + 0.048*\"summer\" + 0.034*\"june\" + 0.033*\"start\" + 0.029*\"brand\"\n",
      "\n",
      "Score: 0.013333392329514027\t \n",
      "Topic: 0.112*\"come\" + 0.090*\"disneyplu\" + 0.072*\"new\" + 0.045*\"stream\" + 0.045*\"littl\" + 0.034*\"cruella\" + 0.033*\"may\" + 0.029*\"adventur\" + 0.028*\"origin\" + 0.027*\"pixarsoul\"\n",
      "\n",
      "Score: 0.013333391398191452\t \n",
      "Topic: 0.088*\"new\" + 0.060*\"disney\" + 0.043*\"disneyplu\" + 0.037*\"year\" + 0.034*\"disneyland\" + 0.032*\"stream\" + 0.032*\"resort\" + 0.029*\"adventur\" + 0.026*\"scene\" + 0.026*\"friend\"\n",
      "\n",
      "Score: 0.013333389535546303\t \n",
      "Topic: 0.096*\"disneydecad\" + 0.083*\"disneyplu\" + 0.075*\"stream\" + 0.057*\"new\" + 0.040*\"time\" + 0.037*\"marvelstudio\" + 0.037*\"seri\" + 0.035*\"origin\" + 0.034*\"start\" + 0.031*\"disney\"\n",
      "\n",
      "Score: 0.01333338487893343\t \n",
      "Topic: 0.123*\"disneyplu\" + 0.106*\"stream\" + 0.075*\"origin\" + 0.072*\"seri\" + 0.060*\"start\" + 0.050*\"juli\" + 0.050*\"best\" + 0.031*\"get\" + 0.029*\"cast\" + 0.027*\"readi\"\n",
      "\n",
      "Score: 0.013333382084965706\t \n",
      "Topic: 0.085*\"magic\" + 0.076*\"celebr\" + 0.059*\"new\" + 0.048*\"disneyplu\" + 0.040*\"world\" + 0.036*\"stream\" + 0.034*\"studio\" + 0.033*\"trailer\" + 0.030*\"go\" + 0.028*\"marvel\"\n",
      "\n",
      "Score: 0.013333377428352833\t \n",
      "Topic: 0.081*\"experi\" + 0.071*\"disneyplu\" + 0.063*\"studio\" + 0.060*\"marvel\" + 0.056*\"theater\" + 0.048*\"stream\" + 0.033*\"marvelstudio\" + 0.030*\"new\" + 0.029*\"order\" + 0.028*\"start\"\n",
      "\n",
      "Score: 0.013333369977772236\t \n",
      "Topic: 0.079*\"miss\" + 0.070*\"disneyplu\" + 0.052*\"stream\" + 0.050*\"pixar\" + 0.047*\"cast\" + 0.044*\"togeth\" + 0.040*\"disney\" + 0.029*\"watch\" + 0.029*\"adventur\" + 0.024*\"seri\"\n",
      "\n",
      "Score: 0.013333362527191639\t \n",
      "Topic: 0.050*\"art\" + 0.049*\"disney\" + 0.049*\"theater\" + 0.045*\"access\" + 0.045*\"premier\" + 0.041*\"see\" + 0.039*\"disneyplu\" + 0.039*\"magic\" + 0.038*\"time\" + 0.033*\"dragon\"\n",
      "\n",
      "Score: 0.013333362527191639\t \n",
      "Topic: 0.147*\"happi\" + 0.135*\"anniversari\" + 0.101*\"day\" + 0.056*\"celebr\" + 0.055*\"th\" + 0.045*\"us\" + 0.033*\"year\" + 0.030*\"littl\" + 0.026*\"disney\" + 0.024*\"get\"\n",
      "\n",
      "Score: 0.013333362527191639\t \n",
      "Topic: 0.073*\"order\" + 0.061*\"premier\" + 0.060*\"access\" + 0.058*\"theater\" + 0.054*\"see\" + 0.042*\"get\" + 0.040*\"disneyplu\" + 0.039*\"raya\" + 0.035*\"cruella\" + 0.033*\"ticket\"\n",
      "\n",
      "Score: 0.013333361595869064\t \n",
      "Topic: 0.163*\"make\" + 0.089*\"look\" + 0.053*\"disney\" + 0.043*\"magic\" + 0.032*\"everi\" + 0.031*\"film\" + 0.030*\"disneydecad\" + 0.028*\"scene\" + 0.027*\"art\" + 0.025*\"stream\"\n"
     ]
    }
   ],
   "source": [
    "# Printing the related topic and its score using BOW model\n",
    "for index, score in sorted(lda_model[bow_corpus[10]], key=lambda tup: -1*tup[1]):\n",
    "    print(\"\\nScore: {}\\t \\nTopic: {}\".format(score, lda_model.print_topic(index, 10)))"
   ]
  },
  {
   "cell_type": "markdown",
   "id": "f4720425",
   "metadata": {},
   "source": [
    "### TD-IDF"
   ]
  },
  {
   "cell_type": "code",
   "execution_count": 26,
   "id": "4c3bacc9",
   "metadata": {},
   "outputs": [
    {
     "name": "stdout",
     "output_type": "stream",
     "text": [
      "\n",
      "Score: 0.8133324384689331\t \n",
      "Topic: 0.056*\"episod\" + 0.048*\"studio\" + 0.044*\"start\" + 0.043*\"seri\" + 0.043*\"loki\" + 0.042*\"stream\" + 0.041*\"disneyplu\" + 0.041*\"origin\" + 0.039*\"marvel\" + 0.033*\"us\"\n",
      "\n",
      "Score: 0.013333426788449287\t \n",
      "Topic: 0.059*\"stream\" + 0.053*\"disneyplu\" + 0.051*\"watch\" + 0.047*\"episod\" + 0.030*\"marvelstudio\" + 0.030*\"pixarluca\" + 0.030*\"two\" + 0.028*\"start\" + 0.028*\"trailer\" + 0.027*\"soldier\"\n",
      "\n",
      "Score: 0.013333424925804138\t \n",
      "Topic: 0.098*\"season\" + 0.080*\"new\" + 0.069*\"get\" + 0.055*\"year\" + 0.050*\"stream\" + 0.047*\"cast\" + 0.041*\"disneyplu\" + 0.041*\"readi\" + 0.034*\"magic\" + 0.026*\"may\"\n",
      "\n",
      "Score: 0.01333340723067522\t \n",
      "Topic: 0.073*\"disneydecad\" + 0.053*\"seri\" + 0.050*\"time\" + 0.050*\"marvelstudio\" + 0.049*\"stream\" + 0.047*\"disneyplu\" + 0.043*\"origin\" + 0.029*\"start\" + 0.025*\"wandavis\" + 0.024*\"falconandwintersoldi\"\n",
      "\n",
      "Score: 0.013333404436707497\t \n",
      "Topic: 0.063*\"short\" + 0.062*\"film\" + 0.061*\"best\" + 0.059*\"life\" + 0.043*\"pixarluca\" + 0.040*\"origin\" + 0.039*\"new\" + 0.038*\"stream\" + 0.037*\"trailer\" + 0.036*\"watch\"\n",
      "\n",
      "Score: 0.01333339512348175\t \n",
      "Topic: 0.064*\"make\" + 0.052*\"moment\" + 0.051*\"experi\" + 0.048*\"miss\" + 0.031*\"pixarsoul\" + 0.030*\"ticket\" + 0.030*\"marvelstudio\" + 0.029*\"stream\" + 0.027*\"junglecruis\" + 0.027*\"order\"\n",
      "\n",
      "Score: 0.013333394192159176\t \n",
      "Topic: 0.098*\"look\" + 0.065*\"happi\" + 0.040*\"disney\" + 0.035*\"pixar\" + 0.034*\"like\" + 0.029*\"pixarsoul\" + 0.028*\"new\" + 0.027*\"adventur\" + 0.026*\"disneyplu\" + 0.026*\"cast\"\n",
      "\n",
      "Score: 0.013333392329514027\t \n",
      "Topic: 0.079*\"learn\" + 0.061*\"stori\" + 0.057*\"raya\" + 0.056*\"last\" + 0.054*\"dragon\" + 0.049*\"see\" + 0.040*\"watch\" + 0.032*\"disneyplu\" + 0.028*\"theater\" + 0.028*\"premier\"\n",
      "\n",
      "Score: 0.013333392329514027\t \n",
      "Topic: 0.045*\"year\" + 0.044*\"juli\" + 0.036*\"disney\" + 0.034*\"world\" + 0.031*\"new\" + 0.031*\"season\" + 0.029*\"winter\" + 0.029*\"magic\" + 0.027*\"time\" + 0.026*\"join\"\n",
      "\n",
      "Score: 0.013333392329514027\t \n",
      "Topic: 0.159*\"like\" + 0.082*\"friend\" + 0.048*\"pixarluca\" + 0.042*\"tomorrow\" + 0.042*\"littl\" + 0.041*\"check\" + 0.039*\"june\" + 0.032*\"summer\" + 0.028*\"start\" + 0.026*\"disneyplu\"\n",
      "\n",
      "Score: 0.013333389535546303\t \n",
      "Topic: 0.038*\"theater\" + 0.037*\"cruella\" + 0.034*\"disney\" + 0.034*\"go\" + 0.032*\"fee\" + 0.032*\"addit\" + 0.032*\"requir\" + 0.031*\"brand\" + 0.031*\"meet\" + 0.029*\"access\"\n",
      "\n",
      "Score: 0.013333389535546303\t \n",
      "Topic: 0.152*\"day\" + 0.106*\"disney\" + 0.062*\"littl\" + 0.042*\"magic\" + 0.040*\"disneydecad\" + 0.040*\"never\" + 0.034*\"summer\" + 0.034*\"open\" + 0.030*\"us\" + 0.028*\"happi\"\n",
      "\n",
      "Score: 0.01333338301628828\t \n",
      "Topic: 0.116*\"anniversari\" + 0.090*\"happi\" + 0.070*\"pixar\" + 0.055*\"th\" + 0.047*\"celebr\" + 0.044*\"day\" + 0.041*\"time\" + 0.036*\"disneydecad\" + 0.034*\"art\" + 0.033*\"togeth\"\n",
      "\n",
      "Score: 0.013333380222320557\t \n",
      "Topic: 0.060*\"park\" + 0.059*\"disneyland\" + 0.047*\"star\" + 0.044*\"disney\" + 0.042*\"art\" + 0.041*\"friend\" + 0.036*\"world\" + 0.036*\"resort\" + 0.029*\"may\" + 0.029*\"adventur\"\n",
      "\n",
      "Score: 0.013333379290997982\t \n",
      "Topic: 0.104*\"one\" + 0.086*\"celebr\" + 0.044*\"art\" + 0.043*\"best\" + 0.040*\"raya\" + 0.039*\"pixarsoul\" + 0.038*\"learn\" + 0.037*\"last\" + 0.036*\"order\" + 0.033*\"scene\"\n"
     ]
    }
   ],
   "source": [
    "# Printing the related topic and its score using Td-Idf model\n",
    "for index, score in sorted(lda_model_tfidf[bow_corpus[10]], key=lambda tup: -1*tup[1]):\n",
    "    print(\"\\nScore: {}\\t \\nTopic: {}\".format(score, lda_model_tfidf.print_topic(index, 10)))"
   ]
  },
  {
   "cell_type": "markdown",
   "id": "d8249bbf",
   "metadata": {},
   "source": [
    "### Unseen document"
   ]
  },
  {
   "cell_type": "code",
   "execution_count": 27,
   "id": "d8681cea",
   "metadata": {},
   "outputs": [
    {
     "name": "stdout",
     "output_type": "stream",
     "text": [
      "Score: 0.3701731562614441\t Topic: 0.096*\"disneydecad\" + 0.083*\"disneyplu\" + 0.075*\"stream\" + 0.057*\"new\" + 0.040*\"time\"\n",
      "Score: 0.34093502163887024\t Topic: 0.100*\"stream\" + 0.098*\"watch\" + 0.087*\"disneyplu\" + 0.071*\"pixarluca\" + 0.065*\"new\"\n",
      "Score: 0.02222250960767269\t Topic: 0.050*\"art\" + 0.049*\"disney\" + 0.049*\"theater\" + 0.045*\"access\" + 0.045*\"premier\"\n",
      "Score: 0.022222494706511497\t Topic: 0.079*\"miss\" + 0.070*\"disneyplu\" + 0.052*\"stream\" + 0.050*\"pixar\" + 0.047*\"cast\"\n",
      "Score: 0.02222249284386635\t Topic: 0.088*\"new\" + 0.060*\"disney\" + 0.043*\"disneyplu\" + 0.037*\"year\" + 0.034*\"disneyland\"\n",
      "Score: 0.022222472354769707\t Topic: 0.073*\"order\" + 0.061*\"premier\" + 0.060*\"access\" + 0.058*\"theater\" + 0.054*\"see\"\n",
      "Score: 0.02222244255244732\t Topic: 0.085*\"magic\" + 0.076*\"celebr\" + 0.059*\"new\" + 0.048*\"disneyplu\" + 0.040*\"world\"\n",
      "Score: 0.022222435101866722\t Topic: 0.081*\"experi\" + 0.071*\"disneyplu\" + 0.063*\"studio\" + 0.060*\"marvel\" + 0.056*\"theater\"\n",
      "Score: 0.022222433239221573\t Topic: 0.163*\"make\" + 0.089*\"look\" + 0.053*\"disney\" + 0.043*\"magic\" + 0.032*\"everi\"\n",
      "Score: 0.022222427651286125\t Topic: 0.123*\"disneyplu\" + 0.106*\"stream\" + 0.075*\"origin\" + 0.072*\"seri\" + 0.060*\"start\"\n",
      "Score: 0.022222422063350677\t Topic: 0.120*\"disney\" + 0.092*\"disneyplu\" + 0.091*\"new\" + 0.084*\"stream\" + 0.045*\"check\"\n",
      "Score: 0.022222420200705528\t Topic: 0.101*\"disneyplu\" + 0.087*\"stream\" + 0.083*\"episod\" + 0.052*\"marvel\" + 0.048*\"studio\"\n",
      "Score: 0.022222420200705528\t Topic: 0.112*\"come\" + 0.090*\"disneyplu\" + 0.072*\"new\" + 0.045*\"stream\" + 0.045*\"littl\"\n",
      "Score: 0.02222241833806038\t Topic: 0.147*\"happi\" + 0.135*\"anniversari\" + 0.101*\"day\" + 0.056*\"celebr\" + 0.055*\"th\"\n",
      "Score: 0.02222241833806038\t Topic: 0.136*\"disneyplu\" + 0.128*\"stream\" + 0.048*\"film\" + 0.044*\"new\" + 0.042*\"stori\"\n"
     ]
    }
   ],
   "source": [
    "# Testing on unseen document\n",
    "unseen_document = 'How many of you are waiting to watch the suicide squad movie in theatre'\n",
    "bow_vector = dictionary.doc2bow(preprocess(unseen_document))\n",
    "# BOW model\n",
    "for index, score in sorted(lda_model[bow_vector], key=lambda tup: -1*tup[1]):\n",
    "    print(\"Score: {}\\t Topic: {}\".format(score, lda_model.print_topic(index, 5)))"
   ]
  },
  {
   "cell_type": "markdown",
   "id": "b7e174f0",
   "metadata": {},
   "source": [
    "## 5. World Cloud"
   ]
  },
  {
   "cell_type": "code",
   "execution_count": 28,
   "id": "76194231",
   "metadata": {},
   "outputs": [],
   "source": [
    "#!pip install wordcloud"
   ]
  },
  {
   "cell_type": "code",
   "execution_count": 29,
   "id": "8ab3d46a",
   "metadata": {},
   "outputs": [],
   "source": [
    "# Import libraries\n",
    "from wordcloud import WordCloud, STOPWORDS\n",
    "import matplotlib.pyplot as plt"
   ]
  },
  {
   "cell_type": "code",
   "execution_count": 30,
   "id": "f18fd01c",
   "metadata": {},
   "outputs": [],
   "source": [
    "# Display word cloud\n",
    "def word_cloud(model):\n",
    "    topics = lda_model.show_topics(num_topics=15, num_words=10,formatted=False)\n",
    "    \n",
    "    top_10_topic = ''\n",
    "    for topic in topics:\n",
    "        for i in topic[1]:\n",
    "            top_10_topic = top_10_topic + \" \" + i[0]\n",
    "            \n",
    "    wordcloud = WordCloud(stopwords=STOPWORDS, max_words=1000).generate(top_10_topic)\n",
    "    plt.imshow(wordcloud)\n",
    "    plt.show()"
   ]
  },
  {
   "cell_type": "markdown",
   "id": "e9103ad5",
   "metadata": {},
   "source": [
    "### BOW"
   ]
  },
  {
   "cell_type": "code",
   "execution_count": 31,
   "id": "a32d22a6",
   "metadata": {},
   "outputs": [
    {
     "data": {
      "image/png": "[encoded data removed]",
      "text/plain": [
       "<Figure size 432x288 with 1 Axes>"
      ]
     },
     "metadata": {
      "needs_background": "light"
     },
     "output_type": "display_data"
    }
   ],
   "source": [
    "# Word cloud - BOW\n",
    "word_cloud(lda_model)"
   ]
  },
  {
   "cell_type": "markdown",
   "id": "c4547263",
   "metadata": {},
   "source": [
    "### TD-IDF"
   ]
  },
  {
   "cell_type": "code",
   "execution_count": 32,
   "id": "671bd2c5",
   "metadata": {},
   "outputs": [
    {
     "data": {
      "image/png": "[encoded data removed]",
      "text/plain": [
       "<Figure size 432x288 with 1 Axes>"
      ]
     },
     "metadata": {
      "needs_background": "light"
     },
     "output_type": "display_data"
    }
   ],
   "source": [
    "# Word cloud - Tf-Idf\n",
    "word_cloud(lda_model_tfidf)"
   ]
  },
  {
   "cell_type": "markdown",
   "id": "8c162973",
   "metadata": {},
   "source": [
    "## 6. Related tweets"
   ]
  },
  {
   "cell_type": "code",
   "execution_count": 33,
   "id": "78585885",
   "metadata": {},
   "outputs": [],
   "source": [
    "# Searching tweets for given word\n",
    "def search_words(word):\n",
    "    copy_df = tweet_df.copy()\n",
    "    copy_df['tweet'] = copy_df['tweet'].apply(lambda x: ' '.join(map(str, x)))\n",
    "    found_tweets = copy_df[copy_df['tweet'].str.contains(word)]\n",
    "\n",
    "    for idx, tweet in found_tweets.iterrows():\n",
    "        print(source_df.iloc[idx]['tweet'])\n",
    "        print('\\n')"
   ]
  },
  {
   "cell_type": "code",
   "execution_count": 34,
   "id": "ee4ab6be",
   "metadata": {},
   "outputs": [
    {
     "name": "stdout",
     "output_type": "stream",
     "text": [
      "Word to search\n",
      "stream\n",
      "#Hawkeye never misses 🏹  Don’t miss @JeremyRenner and @HaileeSteinfeld in this exclusive first-look of @MarvelStudios’ Hawkeye. The Original Series starts streaming Wednesday, November 24 on @DisneyPlus. https://t.co/KyvJAcgE5t\n",
      "\n",
      "\n",
      "Have you enrolled in Mike’s Comedy Class yet? He's so funny, it's scary! Stream new episodes of #MonstersAtWork now on #DisneyPlus. https://t.co/nABfdARTOd\n",
      "\n",
      "\n",
      "Join The Watcher in pondering the question #WhatIf in @MarvelStudios' first animated series, streaming August 11 on @DisneyPlus. https://t.co/IFMmca3uhF\n",
      "\n",
      "\n",
      "“I’ve never done anything like this before.” Happier Than Ever: A Love Letter to Los Angeles – A @BillieEilish Concert Experience is streaming September 3 on @DisneyPlus. #BillieEilishOnDisneyPlus with Gustavo Dudamel and the LA Phil at the Hollywood Bowl. https://t.co/Zkqef8vySO\n",
      "\n",
      "\n",
      "Self-reflection. Growth. Power. Happier Than Ever: A Love Letter to Los Angeles – A @BillieEilish Concert Experience is streaming September 3 on @DisneyPlus. #BillieEilishOnDisneyPlus with Gustavo Dudamel and the LA Phil at the Hollywood Bowl. https://t.co/8F5WF2jvgy\n",
      "\n",
      "\n",
      "Learn the secrets of #DisneyParks magic with Imagineers who make it! 🎢 #BehindTheAttraction, an Original Series, is now streaming only on @DisneyPlus. https://t.co/rI3ZLEIoMj\n",
      "\n",
      "\n",
      "How can you resist this face? 🥺 #TurnerAndHoochSeries is now streaming on #DisneyPlus. https://t.co/qAdlQRmiBR\n",
      "\n",
      "\n",
      "Get ready for two new @Pixar SparkShorts: Twenty Something streaming September 10 and Nona streaming September 17 on @disneyplus. Then, follow along with directors Aphton Corbin and Louis Gonzales in A Spark Story, streaming September 24! https://t.co/31LTRi29DD\n",
      "\n",
      "\n",
      "Take a glorious peek behind the scenes! @MarvelStudios Assembled: The Making of #Loki, an Original Special, is now streaming on @DisneyPlus. https://t.co/oo8Zgpdzt5\n",
      "\n",
      "\n",
      "Witness the glory with the masters of mischief. @MarvelStudios Assembled: The Making of #Loki is now streaming on @DisneyPlus. https://t.co/YeLUAE1LQt\n",
      "\n",
      "\n",
      "Work is ruff. 🐶 Start streaming #TurnerAndHoochSeries tomorrow on @DisneyPlus! #SummerOfDisneyPlus https://t.co/LmlI9dwIJE\n",
      "\n",
      "\n",
      "Big adventures come ’n’ small packages. #ChipNDaleParkLife, an Original Series, starts streaming July 28 on @DisneyPlus. #SummerOfDisneyPlus https://t.co/xOpdR5b4Qz\n",
      "\n",
      "\n",
      "He Who Remains 💥 All episodes of @MarvelStudios' #Loki are now streaming on @DisneyPlus. https://t.co/JdCl3W1UME\n",
      "\n",
      "\n",
      "Make a splash this summer! 🌊 Stream #PixarLuca on #DisneyPlus: https://t.co/1cpRdSfDnd https://t.co/X5MpbLHIoG\n",
      "\n",
      "\n",
      "Time is of the essence. ⏰ 🕰 All episodes of Marvel Studios’ Loki, an Original Series, are now streaming on #DisneyPlus: https://t.co/KI4ZYnPZEy https://t.co/kH4TVwmZHt\n",
      "\n",
      "\n",
      "Dive into the real-life friendship that inspired #PixarLuca in this Origin Story as told by Director Enrico Casarosa. Luca is now streaming on #DisneyPlus. 🌊❤️ https://t.co/Ix3G7vnIjk\n",
      "\n",
      "\n",
      "The future of the MCU has changed forever 🌀 All episodes of Marvel Studios' #Loki are now streaming on @DisneyPlus. https://t.co/6My2AdG3sS\n",
      "\n",
      "\n",
      "The moment you've waited for has arrived 🕰 The finale of Marvel Studios' #Loki and all episodes of the Original Series are now streaming on @DisneyPlus. https://t.co/7KK6EXpbOA\n",
      "\n",
      "\n",
      "Step #BehindTheAttraction… figuratively, and literally. Discover more about your favorite #DisneyParks attractions in the Original Series from exec producers Dwayne Johnson, Dany Garcia, and Brian Volk-Weiss. The first five episodes are streaming July 21 on @DisneyPlus. https://t.co/xWKHAAwN7B\n",
      "\n",
      "\n",
      "This cast is full of extraordinary gifts and incredible talent. 🔍 Discover the secrets of The Mysterious Benedict Society, an Original Series now streaming on @DisneyPlus. https://t.co/3DHBFezlCz\n",
      "\n",
      "\n",
      "One question changes everything. @MarvelStudios' first animated series, What If...?, starts streaming August 11 with new episodes Wednesdays on @DisneyPlus. @WhatIfOfficial https://t.co/a5lpAafpFM\n",
      "\n",
      "\n",
      "Enter the multiverse of unlimited possibilities. Marvel Studios' first animated series, What If...?, starts streaming August 11 with new episodes Wednesdays on @DisneyPlus. @WhatIfOfficial https://t.co/CSBqYYDWZC\n",
      "\n",
      "\n",
      "Santa mozzarella! This #PixarLuca clay sculpture by artist Andi Meier sure is a sight to sea! 🌊 Stream the film now on #DisneyPlus. https://t.co/NBjU1kjycr\n",
      "\n",
      "\n",
      "The cast of #MonstersAtWork are a scream! 😱 Stream the two-episode premiere of the Original Series now on #DisneyPlus. https://t.co/xCCySFzGLq\n",
      "\n",
      "\n",
      "An interviewer is only as good as his subject. Thankfully, Tony Hale can do both. 👏 The #MysteriousBenedictSociety is now streaming on #DisneyPlus with new episodes every Friday. https://t.co/3dEfLiRQha\n",
      "\n",
      "\n",
      "Next stop: #Portorosso. Visit Luca, Giulia and Alberto by streaming #PixarLuca now! https://t.co/xtyh4Mlj6E\n",
      "\n",
      "\n",
      "Mischief arrives in Springfield—well, more mischief, anyway. Start streaming the short, @TheSimpsons: The Good, the Bart, and the #Loki July 7 on @DisneyPlus. #SummerOfDisneyPlus https://t.co/QBEPq6rezZ\n",
      "\n",
      "\n",
      "Can you believe your eye? 👁 Mike Wazowski’s arch nemesis Gary, voiced by Gabriel Iglesias, is coming to #MonstersAtWork! The Original Series starts streaming with a two-episode premiere July 7 on #DisneyPlus. #SummerOfDisneyPlus https://t.co/oUV8aVut0R\n",
      "\n",
      "\n",
      "Next week, these #MIFTers are taking on the Laugh Floor. \n",
      "\n",
      "#MonstersAtWork, an Original Series, starts streaming with a two-episode premiere July 7 on #DisneyPlus. https://t.co/yyZLmI93l8\n",
      "\n",
      "\n",
      "Go back to Jakku with Director JJ Abrams and Daisy Ridley in this BTS still from Star Wars: The Force Awakens, released in 2015. Stream the film on #DisneyPlus. #DisneyDecades https://t.co/UaD39zQsGb\n",
      "\n",
      "\n",
      "The epic series has just begun 💥 Don't miss a moment of Star Wars: @TheBadBatch, now streaming on @DisneyPlus. #TheBadBatch https://t.co/v9B3tMzJAD\n",
      "\n",
      "\n",
      "More mischief has arrived ✨ @Sophiadimartino is #Sylvie in Marvel Studios' #Loki. The first three episodes of the Original Series are now streaming on @DisneyPlus. https://t.co/t7haobZkpL\n",
      "\n",
      "\n",
      "It’s time for a change in scenery ✨ The third episode of Marvel Studios' #Loki is now streaming on @DisneyPlus. https://t.co/UFlYjFQZ9S\n",
      "\n",
      "\n",
      "From a patriot to a lifelong hero. From Captain America: The First Avenger in 2011 to Avengers: Endgame in 2019, Steve Rogers’ journey encompassed nearly all the 2010s. Stream both films on #DisneyPlus. #DisneyDecades https://t.co/KLnAodJJ0O\n",
      "\n",
      "\n",
      "Meet Alberto: He’s a pro at human stuff. #PixarLuca is now streaming on @DisneyPlus. https://t.co/7mHRjYjkja\n",
      "\n",
      "\n",
      "“The Rose Song,\" performed by @Olivia_Rodrigo, is sure to be stuck in your head! 🥀 See the full performance in episode 6 of #HSMTMTS Season 2, now streaming on #DisneyPlus. https://t.co/vpqxSpPOvo\n",
      "\n",
      "\n",
      "Double the person. Double the mystery. The #MysteriousBenedictSociety, an Original Series, starts streaming with a two-episode premiere June 25 on #DisneyPlus. https://t.co/E7KI77JGj1\n",
      "\n",
      "\n",
      "The true test is about to begin. The #MysteriousBenedictSociety, an Original Series, starts streaming with a two-episode premiere June 25 on #DisneyPlus. https://t.co/4NA4TdqEIG\n",
      "\n",
      "\n",
      "From Arendelle to Wakanda, we’re kicking off 2010’s week with a few of the stories from @DisneyAnimation, @Pixar, @StarWars, and @MarvelStudios released from 2010 through 2019. All these and more are streaming on #DisneyPlus. #DisneyDecades https://t.co/KRGW5bLvAy\n",
      "\n",
      "\n",
      "Wave hello to two of #PixarLuca’s most fintastic stars, Luca and Alberto! Stream @PixarLuca on #DisneyPlus! https://t.co/Kkk2bHF5R7\n",
      "\n",
      "\n",
      "Disney and Pixar’s Luca is now swimming—er, now streaming—only on @DisneyPlus! 🏊#PixarLuca https://t.co/8hNTah8hK3\n",
      "\n",
      "\n",
      "Ready for a challenge? Join Jacob Tremblay, Jack Dylan Grazer, and Jim Gaffigan as they compete against each other ultimate #PixarLuca challenge! #PixarLuca is now streaming on #DisneyPlus! https://t.co/7NBdhE8IIm\n",
      "\n",
      "\n",
      "Catch up with the devilishly handsome, debonair, witty, superior character(s) in the MCU 😏 The first two episodes of Marvel Studios' #Loki are now streaming with new episodes arriving Wednesdays on @DisneyPlus. https://t.co/3wdSuMFtMq\n",
      "\n",
      "\n",
      "POV: You’re watching Disney Channel in the 2000s and all of these shows are on the schedule. Life was suite! 😎 All these and more are streaming on #DisneyPlus. #DisneyDecades https://t.co/vX1uDpmClO\n",
      "\n",
      "\n",
      "It’s time for Luca! ☀️ Stream #PixarLuca now on @DisneyPlus! https://t.co/R8hNwg9WvJ\n",
      "\n",
      "\n",
      "Open the door to new storytelling ✨ The Last of the Chupacabras, one of six Disney @LaunchpadShorts, is now streaming on @DisneyPlus. https://t.co/fVTrX3IYXe\n",
      "\n",
      "\n",
      "Suit up with Tony Stark! 💥 The Marvel Cinematic Universe blasted off in 2008. Stream Iron Man on #DisneyPlus. #DisneyDecades https://t.co/pfagtTXjKm\n",
      "\n",
      "\n",
      "Experience The Beatles: Get Back, a three-part @DisneyPlus Original documentary series streaming November 25, 26 and 27. https://t.co/tcf6BnSqop\n",
      "\n",
      "\n",
      "Catch up on everything you need to know about the cast of #PixarLuca before you stream the movie on @DisneyPlus this Friday! https://t.co/W6A5CLU9G7\n",
      "\n",
      "\n",
      "It’s double the fun with this opening! #ChipNDaleParkLife, an Original Series, starts streaming July 28 on #DisneyPlus. https://t.co/whKmR6K9vr\n",
      "\n",
      "\n",
      "Tiny troublemakers, huge adventures. #ChipNDaleParkLife, an Original Series, starts streaming July 28 on #DisneyPlus. https://t.co/fI9MALO0nX\n",
      "\n",
      "\n",
      "It's Wednesday! 🗓 The second episode of Marvel Studios' #Loki is now streaming on @DisneyPlus. https://t.co/GPogZp5Pyh\n",
      "\n",
      "\n",
      "It’s the start of something new (or old)! Here’s a throwback to some first and last lines from the High School Musical trilogy – all released in the 2000s! High School Musical and High School Musical 3 are now streaming on #DisneyPlus 🐾 #DisneyDecades https://t.co/75UuIlkpLP\n",
      "\n",
      "\n",
      "Hear her roar 🐯 Let’s Be Tigers, one of six Disney’s Launchpad Shorts, is now streaming on @DisneyPlus. https://t.co/3Sthbzqqux\n",
      "\n",
      "\n",
      "New week, new millennium! All week long we’re showcasing the magical, super, out-of-this-world 2000s with films from @DisneyAnimation, @Pixar, @StarWars, and @MarvelStudios! All these and more are now streaming on #DisneyPlus. #DisneyDecades https://t.co/uGZGdrCJJs\n",
      "\n",
      "\n",
      "Start your summer with Luca.☀️  Stream #PixarLuca June 18! https://t.co/yXIOHpItkh\n",
      "\n",
      "\n",
      "She means business 👩🏽‍⚖️ Gugu Mbatha-Raw is Judge Renslayer in Marvel Studios' #Loki. Stream new episodes of the Original Series every Wednesday on @DisneyPlus. https://t.co/IwpY2eUvwd\n",
      "\n",
      "\n",
      "This summer, meet the M.I.F.T. crew for all of your Laugh Floor maintenance needs! #MonstersAtWork, an all-new Original Series, starts streaming on its new date, Wednesday, July 7 on @DisneyPlus. #SummerOfDisneyPlus https://t.co/O5KKBTgLzz\n",
      "\n",
      "\n",
      "Discover more moments of mindfulness. ✨  All new episodes of #Zenimation are now streaming on @DisneyPlus. https://t.co/szeYGDGFR2\n",
      "\n",
      "\n",
      "Everyone in Portorosso believes in sea monsters. Watch a new clip from #PixarLuca, streaming June 18 only on @DisneyPlus. https://t.co/IYfsEvnyaA\n",
      "\n",
      "\n",
      "The time has come ⌛ The series premiere of Marvel Studios' #Loki is now streaming on @DisneyPlus. https://t.co/OtHbdfe7nM\n",
      "\n",
      "\n",
      "The school of the undead is in session 🧛‍♀️ Growing Fangs, one of six Disney @LaunchpadShorts, is now streaming on @DisneyPlus. https://t.co/36WtXURcWA\n",
      "\n",
      "\n",
      "For your entertainment, remain seated and keep your hands, arms, feet, and legs on the couch. #BehindTheAttraction, from executive producers Dwayne Johnson, Dany Garcia, and Brian Volk-Weiss, is streaming July 16 on #DisneyPlus. #SummerOfDisneyPlus #DisneyParks https://t.co/tydLFW8hUq\n",
      "\n",
      "\n",
      "Meet Art and Dot in Walt @DisneyAnimation Studios’ Us Again, now streaming on @DisneyPlus. https://t.co/W5ViMROCZu\n",
      "\n",
      "\n",
      "The cutest creature in all of Kumandra. 😍 Raya and the Last Dragon is now streaming for all subscribers on #DisneyPlus. https://t.co/s6OhY6CDIY\n",
      "\n",
      "\n",
      "Find the wonder. Find the joy. Walt @DisneyAnimation Studios’ new short Us Again is now streaming on @DisneyPlus. https://t.co/vhYEt2TjmB\n",
      "\n",
      "\n",
      "The table is set 🍽 Dinner is Served, one of six Disney @LaunchpadShorts, is now streaming on @DisneyPlus. https://t.co/H52HB8s37d\n",
      "\n",
      "\n",
      "It's time for a first-look behind the scenes of @MarvelStudios' #Loki 🕰 The Original Series starts streaming June 9 with new episodes every Wednesday on @DisneyPlus. https://t.co/JWC8qrVNc6\n",
      "\n",
      "\n",
      "You're invited to celebrate with Ameena and Zainab. American Eid, one of six Disney #LaunchpadShorts, is now streaming on @DisneyPlus. https://t.co/aUr4mFyt03\n",
      "\n",
      "\n",
      "Celebrate new stories 🎞 Experience all six Disney's @LaunchpadShorts, now streaming on @DisneyPlus. https://t.co/JQnus9QJNK\n",
      "\n",
      "\n",
      "Explore what’s beyond the surface. 🌊 Stream #PixarLuca June 18 on @DisneyPlus. https://t.co/wIsVZVgvX6\n",
      "\n",
      "\n",
      "Go on an unforgettable ride with #PixarLuca, streaming on @DisneyPlus June 18.  🛵 https://t.co/ffJxoJGIFx\n",
      "\n",
      "\n",
      "Rock out to “1-2-3,” a brand-new song from #HSMTMTS Season 2. Start streaming now on #DisneyPlus. https://t.co/bOka0zWzQb\n",
      "\n",
      "\n",
      "Work hard, laugh harder. #MonstersAtWork, an Original Series, starts streaming July 2 on #DisneyPlus. #DisneyBundle https://t.co/ARInHdkc2O\n",
      "\n",
      "\n",
      "Grab your friends and get ready to stream Pixar Luca June 18 on @DisneyPlus! #PixarLuca https://t.co/29Z0CIaL6z\n",
      "\n",
      "\n",
      ".@TWHiddleston is on the clock ⏱ Catch up on Loki's journey through the MCU and get ready to stream @MarvelStudios' #Loki, an Original Series, starting June 9 on @DisneyPlus. https://t.co/4F7XBWHud1\n",
      "\n",
      "\n",
      "Together they’ll uncover the mystery to the truth. The #MysteriousBenedictSociety, an Original Series, starts streaming June 25 on #DisneyPlus #DisneyBundle https://t.co/8MV7nJgdKZ\n",
      "\n",
      "\n",
      "Laughter is what they’re after in this sneak peek from #MonstersAtWork, an Original Series, streaming July 2 on #DisneyPlus. https://t.co/ifOXfjQahC\n",
      "\n",
      "\n",
      "#Disenchanted has started production! Directed by Adam Shankman, starring Amy Adams, Patrick Dempsey, James Marsden, Idina Menzel, Maya Rudolph, Yvette Nicole Brown, Jayma Mays, Kolton Stewart, Oscar Nuñez &amp; Gabby Baldacchino.\n",
      " \n",
      "#Disenchanted is streaming on @DisneyPlus in 2022! https://t.co/kDmsfUNQXJ\n",
      "\n",
      "\n",
      "Get ready to school the competition! A new semester is about to change East High's status quo in #HSMTMTS Season 2, now streaming on #DisneyPlus. https://t.co/gLlvUzgYH3\n",
      "\n",
      "\n",
      "It’s a monstrous sneak peek with this new look at #MonstersAtWork! Start streaming the Original Series July 2 on #DisneyPlus. https://t.co/iozogdXdpK\n",
      "\n",
      "\n",
      "Wednesdays are the new Fridays 🗓 Mark your calendars for new episodes of @MarvelStudios' #Loki, streaming Wednesdays starting June 9 on @DisneyPlus. https://t.co/sOENq2G6m7\n",
      "\n",
      "\n",
      "It’s the day we’ve been waiting for 💥 Celebrate May the 4th with the special 70-minute premiere of Star Wars: @TheBadBatch, an Original Series, now streaming on @DisneyPlus. #TheBadBatch\n",
      " \n",
      "https://t.co/866EH0Vrgl\n",
      "\n",
      "\n",
      "Hunter 💥 Wrecker 👊Tech 📟  Echo 🦾 Crosshair 🎯 Meet Clone Force 99 in Star Wars: @TheBadBatch. The Original Series, starts streaming tomorrow, #MayThe4th on #DisneyPlus. https://t.co/xDgnL3ENjn\n",
      "\n",
      "\n",
      "In a daycare far, far away… but still in Springfield. Maggie Simpson in “The Force Awakens From Its Nap” is streaming tomorrow, May the 4th on #DisneyPlus. https://t.co/MMUgzkzVUc\n",
      "\n",
      "\n",
      "You may think you like earth… but 22 says otherwise. 22 vs. Earth, an Original Short, is now streaming on @DisneyPlus 🌎 https://t.co/qXJGKNZmKe\n",
      "\n",
      "\n",
      "See how Sam and Bucky's journeys were brought to life in @MarvelStudios Assembled: The Making of The Falcon and The Winter Soldier, now streaming on @DisneyPlus. #FalconAndWinterSoldier https://t.co/JAUqBdHceZ\n",
      "\n",
      "\n",
      "Go beyond the shield and behind the scenes. @MarvelStudios Assembled: The Making of The Falcon and The Winter Soldier is streaming tomorrow on @DisneyPlus. #FalconAndWinterSoldier https://t.co/HJOcOOxCuK\n",
      "\n",
      "\n",
      "Go beyond the surface in #PixarLuca, streaming June 18 only on @DisneyPlus. https://t.co/eNtYVLeScC\n",
      "\n",
      "\n",
      "This summer, visit Portorosso. 🏖️ Watch the new trailer for #PixarLuca, streaming June 18 only on @DisneyPlus. https://t.co/urhf4qt9dR\n",
      "\n",
      "\n",
      "22 is definitely up to something. See 22 vs. Earth, an Original Short Film streaming April 30 on @DisneyPlus 🌎 https://t.co/NT8CxIx7qE\n",
      "\n",
      "\n",
      "Repeat after 22 until told otherwise in a brand-new clip and see 22 vs. Earth, an Original Short Film streaming April 30 on @DisneyPlus 🌎 https://t.co/RPoe7ixNbc\n",
      "\n",
      "\n",
      "It's all led to this. 🙌 The epic finale of @MarvelStudios' The Falcon and The Winter Soldier is now streaming on @DisneyPlus. #FalconAndWinterSoldier https://t.co/nSY6aCuYHC\n",
      "\n",
      "\n",
      "Discover a few new deep blue secrets this #EarthDay. All episodes of #SecretsOfTheWhales from @NatGeo are now streaming on @DisneyPlus. #DisneyPlus https://t.co/zGzQcsUC2k\n",
      "\n",
      "\n",
      "Talk about a team up 💪 Stream the finale of @MarvelStudios' The Falcon and The Winter Soldier tomorrow on @DisneyPlus 💥 Poster art by Luke Butland, Doaly, and Tracie Ching #FalconAndWinterSoldier (1/2) https://t.co/y4yPXXajSr\n",
      "\n",
      "\n",
      "Ever wonder what 22 was up to before Joe Gardner came along? See 22 vs. Earth, an Original Short Film streaming April 30 on @DisneyPlus 🌎 https://t.co/s78hU1GHdV\n",
      "\n",
      "\n",
      "Welcome back the Dora Milaje in this latest featurette for @MarvelStudios' The Falcon and The Winter Soldier. Episode five streaming tomorrow on @DisneyPlus. #FalconAndWinterSoldier https://t.co/4qq731DB0C\n",
      "\n",
      "\n",
      "Ayo is back in the latest episode of @MarvelStudios' The Falcon and The Winter Soldier! Stream episode four now on @DisneyPlus. #FalconAndWinterSoldier https://t.co/C06QgjS7BS\n",
      "\n",
      "\n",
      "New semester. New competition. New drama. Start streaming Season 2 of High School Musical: The Musical: The Series May 14 on #DisneyPlus. #HSMTMTS https://t.co/yJdDIsUTxy\n",
      "\n",
      "\n",
      "High notes and high drama… they’re getting ready to school the competition. Start streaming Season 2 of High School Musical: The Musical: The Series May 14 on #DisneyPlus. #HSMTMTS https://t.co/lIOkLpBPe7\n",
      "\n",
      "\n",
      "Loki’s time has come. ⌛ Watch the brand-new trailer for #LOKI, and start streaming the @MarvelStudios Original Series June 11 on @DisneyPlus. https://t.co/MpeZJBRK7A\n",
      "\n",
      "\n",
      "It's time for a change in scenery 🏙️ Episode three of @MarvelStudios' The Falcon and The Winter Soldier is now streaming on @DisneyPlus. #FalconAndWinterSoldier https://t.co/NM0sLP5pbK\n",
      "\n",
      "\n",
      "\"Everybody in the world expects me to be something and I don't want to fail them.\" Meet John Walker in the latest episode of Marvel Studios' The Falcon and The Winter Soldier, now streaming on @DisneyPlus. #FalconAndWinterSoldier https://t.co/fsyGd53PQJ\n",
      "\n",
      "\n",
      "Meet the new generation of game changers. Start streaming the brand-new Original Series, #TheMightyDucksGameChangers, now on #DisneyPlus. https://t.co/jLZo5JqcnS\n",
      "\n",
      "\n",
      "Together again 💥 Episode two of @MarvelStudios' The Falcon and The Winter Soldier is now streaming on @DisneyPlus. #FalconAndWinterSoldier https://t.co/cUaWd53QzS\n",
      "\n",
      "\n",
      "Together again 💥 Episode two of @MarvelStudios' The Falcon and The Winter Soldier is now streaming on @DisneyPlus. #FalconAndWinterSoldier https://t.co/LVzBW0KkIC\n",
      "\n",
      "\n",
      "Go beyond the legacy of the shield and check out this brand-new featurette from Marvel Studios' The Falcon and the Winter Soldier ⭐ Episode one now streaming on @DisneyPlus. #FalconAndWinterSoldier https://t.co/0ZqNM0dfLG\n",
      "\n",
      "\n",
      "A Wanda-ful Vision of growth! \n",
      "\n",
      "@MarvelStudios’ #WandaVision, Avengers: Age of Ultron, Captain Marvel, Ant-Man and The Wasp, and Thor are streaming on #DisneyPlus. https://t.co/9dd7jj5ipz\n",
      "\n",
      "\n",
      "Together they’ll conquer the court. #BigShot, an Original Series, is streaming April 16 on #DisneyPlus. https://t.co/sLK7ryKfsP\n",
      "\n",
      "\n",
      "Have you have streamed the first episode of @MarvelStudios' The Falcon and The Winter Soldier on @DisneyPlus? #FalconAndWinterSoldier https://t.co/yHLdmGA08k\n",
      "\n",
      "\n",
      "Things are about to get (scary) funny. Meet the cast of #MonstersAtWork! Start streaming the Original Series July 2 on #DisneyPlus. https://t.co/regDhVQ5aY\n",
      "\n",
      "\n",
      "Start your countdown to the glorious arrival of @MarvelStudios' #Loki. The Original Series starts streaming June 11 on @DisneyPlus. https://t.co/cqA8nUqzLK\n",
      "\n",
      "\n",
      "☆ More than a symbol ☆ Watch the final trailer for Marvel Studios’ The Falcon and The Winter Soldier and start streaming the Six-Episode Event this Friday on @DisneyPlus. #FalconAndWinterSoldier https://t.co/8yFYp5aJMq\n",
      "\n",
      "\n",
      "Watch a brand-new official clip from Marvel Studios’ The Falcon and The Winter Soldier. Start streaming in five days on @DisneyPlus. #FalconAndWinterSoldier https://t.co/K280OLx8QG\n",
      "\n",
      "\n",
      "Our two favorite co-workers, Anthony Mackie and Sebastian Stan, are back to give you a behind-the-scenes look at Marvel Studios' The Falcon and the Winter Soldier ⭐ Start streaming March 19 on @DisneyPlus. #FalconAndWinterSolider https://t.co/3yRKh5ue3J\n",
      "\n",
      "\n",
      "Go behind the magic of Marvel Studios' #WandaVision 🎥 Marvel Studios Assembled: The Making of WandaVision, an Original Special, is now streaming on @DisneyPlus. https://t.co/7wVCUv5Qar\n",
      "\n",
      "\n",
      "This Earth Day, take a deep dive with #SecretsOfTheWhales, an Original Series from @NatGeo, executive producer James Cameron, and narrated by Sigourney Weaver. Streaming April 22 on @DisneyPlus. #DisneyPlus https://t.co/pgDiqwsxUI\n",
      "\n",
      "\n",
      "Never stop fighting 💥 Marvel Studios' The Falcon and the Winter Soldier starts streaming March 19 on @DisneyPlus. #FalconAndWinterSoldier https://t.co/eTbCxma08d\n",
      "\n",
      "\n",
      "The moment has arrived 📺 Tune into the finale and watch all episodes of @MarvelStudios' #WandaVision, now streaming on @DisneyPlus. #WandaVisionFinale https://t.co/PaQD7Zmh9X\n",
      "\n",
      "\n",
      "Two weeks until two heroes return. @MarvelStudios' The Falcon and the Winter Soldier starts streaming March 19 on @DisneyPlus. #FalconAndWinterSoldier https://t.co/grQ5ZQzWPP\n",
      "\n",
      "\n",
      "The cast and crew of #FloraAndUlysses are nuts about squirrels! 🐿 The film is now streaming on #DisneyPlus. https://t.co/1bUHjN6YOY\n",
      "\n",
      "\n",
      "The only way to leave is by making a grand exit, like Ulysses. 🐿 ⚡ 💥 Watch #FloraAndUlysses, now streaming on #DisneyPlus https://t.co/vRNfLcCscl\n",
      "\n",
      "\n",
      "The cutest little bounty in the entire galaxy. Stream The Mandalorian on #DisneyPlus. https://t.co/XwX0xhoFBp\n",
      "\n",
      "\n",
      "A new journey into the Enchanted Forest awaits. Myth: A Frozen Tale, a short film, is now streaming on #DisneyPlus. https://t.co/8gnffXyVvO\n",
      "\n",
      "\n",
      "Save the dates! 🗓 Here’s when you can expect some upcoming #DisneyPlus Original Series to start streaming!\n",
      "\n",
      "\n",
      "Game on. #TheMightyDucksGameChangers, an Original Series, starts streaming March 26 on #DisneyPlus. https://t.co/QjVYiHeys2\n",
      "\n",
      "\n",
      "It’s time to welcome a new generation of game changers. Start streaming #TheMightyDucksGameChangers, an Original Series, March 26 on #DisneyPlus. https://t.co/JhJkWKPVYK\n",
      "\n",
      "\n",
      "#HSMTMTS Season 2. Streaming May 14 on #DisneyPlus. https://t.co/iWDM6Q0hsb\n",
      "\n",
      "\n",
      "This is a shot he can’t afford to miss. #BigShot, an Original Series starring @JohnStamos, starts streaming April 16 on #DisneyPlus. https://t.co/pKeg7eLxt4\n",
      "\n",
      "\n",
      "Loki, an Original Series from @MarvelStudios, starts streaming June 11 on #DisneyPlus. https://t.co/ffLS37RNiw\n",
      "\n",
      "\n",
      "It was her all along 🐇 The seventh episode of @MarvelStudios' #WandaVision is now streaming on @DisneyPlus. https://t.co/CPSgxeFJFQ\n",
      "\n",
      "\n",
      "It's time to meet @TheMuppets – all over again! All five seasons of their classic series #TheMuppetShow are now streaming on @DisneyPlus. https://t.co/A2w1LQ16eD\n",
      "\n",
      "\n",
      "Things are getting pretty weird now that @TheMuppets have invaded @DisneyPlus! All five seasons of #TheMuppetShow are now streaming – but these shows aren't. https://t.co/bzkggG515W\n",
      "\n",
      "\n",
      "Nuts about these dynamic duos! Don't miss the latest precocious pair, #FloraAndUlysses, now streaming only on #DisneyPlus. 🐿 https://t.co/KKECGExFBf\n",
      "\n",
      "\n",
      "Join filmmakers Pete Docter, Kemp Powers, and Dana Murray as they discuss their sparks that inspired the making of #PixarSoul. Stream the film on #DisneyPlus. https://t.co/k4l3xowG5J\n",
      "\n",
      "\n",
      "He's not just a squirrel, Ulysses has superpowers. Watch #FloraAndUlysses now streaming on #DisneyPlus 🐿 ⚡ 💥 https://t.co/TqLittC6vJ\n",
      "\n",
      "\n",
      "Where do we start? 💥 Start streaming @MarvelStudios' The Falcon and the Winter Soldier on @DisneyPlus in one month. #FalconAndWinterSoldier https://t.co/yAl93QIBAE\n",
      "\n",
      "\n",
      "It’s time to get things started on #TheMuppetShow! Get ready for music, mayhem, magic, and lots and lots of Muppets. Stream all five seasons only on @DisneyPlus. https://t.co/ReMhqYh6Ls\n",
      "\n",
      "\n",
      "Hear from co-director Kemp Powers about how a visit to the barbershop saved Joe’s haircut and added an authentic Black experience to #PixarSoul. Stream the film on #DisneyPlus. #BlackHistoryMonth https://t.co/jakBKCj1nj\n",
      "\n",
      "\n",
      "From incredible stories to unforgettable characters, The #DisneyBundle has something for everyone and we’re here for it. Get your stream on across #DisneyPlus, @hulu, and #ESPNplus. https://t.co/weKyPLR8pc https://t.co/cO08zjAGcX\n",
      "\n",
      "\n",
      "The Falcon and the Winter Soldier, an Original Series from @MarvelStudios, starts streaming March 19 on \n",
      "@DisneyPlus. #FalconAndWinterSoldier https://t.co/BKG0q5WQ1w\n",
      "\n",
      "\n",
      "Are you ready? Watch the brand-new trailer for @MarvelStudios’ The Falcon and the Winter Soldier and start streaming the Original Series March 19 on Disney+. https://t.co/55aIBQb3aP\n",
      "\n",
      "\n",
      "Don't miss a moment of Marvel Studios' #WandaVision, now streaming on @DisneyPlus. https://t.co/CqYQkkGgPF\n",
      "\n",
      "\n",
      "Life could be perfect when it's made just for you. Marvel Studios' #WandaVision is now streaming on @DisneyPlus. https://t.co/tEk7RlSgbg\n",
      "\n",
      "\n",
      "\"What is outside of Westview?\" Experience an all-new episode of Marvel Studios' #WandaVision, now streaming on @DisneyPlus. https://t.co/IQZiiY4aO1\n",
      "\n",
      "\n",
      "This season, a new team will fly together. #TheMightyDucksGameChangers, an Original Series, starts streaming March 26 on #DisneyPlus. https://t.co/68PRB0Lc2T\n",
      "\n",
      "\n",
      "Grab the salt and butter! All episodes of Pixar Popcorn are now streaming on Disney+ #PixarPopcorn 🍿 https://t.co/ApvClqvPfA\n",
      "\n",
      "\n",
      "The third episode of Marvel Studios' #WandaVision is now streaming in color on @DisneyPlus. https://t.co/yOKqCkoUhL\n",
      "\n",
      "\n",
      "Pixar Popcorn, Original Shorts. All episodes streaming January 22 on @DisneyPlus🍿 #PixarPopcorn https://t.co/GJt3nCMHlj\n",
      "\n",
      "\n",
      "Get ready for Pixar Popcorn, a collection of mini-shorts starring your favorite Pixar characters in all-new stories. All episodes streaming January 22 on @DisneyPlus 🍿 #PixarPopcorn https://t.co/QM1ch8Py7h\n",
      "\n",
      "\n",
      "It's time to play the music. It's time to light the lights. It's time for The Muppet Show on #DisneyPlus! All five seasons of @TheMuppets' classic series are streaming February 19. https://t.co/wE1UgqrLwO\n",
      "\n",
      "\n",
      "Marvel Studios’ #WandaVision is full of surprises 💥 The first two episodes are now streaming on @DisneyPlus. https://t.co/02oPy66tes\n",
      "\n",
      "\n",
      "✨ Out-of-this-world entertainment ✨ Stream The Right Stuff, Lilo &amp; Stitch, Phineas and Ferb, and more otherworldly delights on #DisneyPlus. https://t.co/OIkBOHpXH6\n",
      "\n",
      "\n",
      "The series premiere has arrived 📺 The first two episodes of Marvel Studios’ #WandaVision are now streaming on #DisneyPlus. https://t.co/DrOaBbWnYQ\n",
      "\n",
      "\n",
      "A ✨ visionary ✨ new era is about to begin! @MarvelStudios’ @WandaVision starts streaming tomorrow on @DisneyPlus. https://t.co/7eeqwnusLW\n",
      "\n",
      "\n",
      "No Tights. No Cape. No Problem. Watch #FloraAndUlysses, streaming February 19, only on #DisneyPlus.🐿 ⚡💥 https://t.co/mGPumqKQuQ\n",
      "\n",
      "\n",
      "Witness the tail of an unexpected hero. Watch the full trailer online now for #FloraAndUlysses, streaming February 19, only on #DisneyPlus. 🐿 ⚡ 💥 https://t.co/GL8sXhYB6d\n",
      "\n",
      "\n",
      "Valkyrie takes action! ⚔️ @MarvelStudios’ Thor: Ragnarok is streaming on #DisneyPlus. https://t.co/ciULGFboYf\n",
      "\n",
      "\n",
      "Virtual reality, real amazement. Stream #PixarSoul on #DisneyPlus. (VR Art by The Sabby Life) https://t.co/6eJjo1bOrC\n",
      "\n",
      "\n",
      "Revisit epic moments in MCU history one character at a time with Marvel Studios: Legends, a new series now streaming on #DisneyPlus. https://t.co/JHmlLs4lIB\n",
      "\n",
      "\n",
      "Prepare for @WandaVision by reliving Wanda Maximoff and Vision’s stories in Marvel Studios: Legends. The new series revisits the most iconic moments from the MCU, and the first two episodes are now streaming on #DisneyPlus. https://t.co/0rEZhLeAzW\n",
      "\n",
      "\n",
      "Starstruck by the cast of #PixarSoul. ⭐️🤩 Soul is now streaming on #DisneyPlus. https://t.co/7U3ROdJZ8S\n",
      "\n",
      "\n",
      "See Joe Gardner's arrival in The Great Beyond from a new perspective: a storyboard to final frame side-by-side! #PixarSoul is now streaming only on #DisneyPlus. https://t.co/XDxiFz78sH\n",
      "\n",
      "\n",
      "Joe Gardner lands the gig of his life in this new clip from #PixarSoul. 🎵 Watch how it plays out in the movie, now streaming on #DisneyPlus. https://t.co/k28lKGiCO0\n",
      "\n",
      "\n",
      "Tune into a new age. #WandaVision, an Original Series from @MarvelStudios, starts streaming in two weeks on #DisneyPlus. (1/2) https://t.co/d6NOIKhees\n",
      "\n",
      "\n",
      "A visionary new era arrives! #WandaVision, an Original Series from @MarvelStudios, starts streaming January 15 on @DisneyPlus. https://t.co/wsId1O2ppY\n",
      "\n",
      "\n",
      "Discover the spark that inspired Pete Docter and Kemp Powers to create @Pixar's newest film, Soul. 🎶 Stream the film now on #DisneyPlus. https://t.co/fzVaNAxNxn\n",
      "\n",
      "\n",
      "A little motivation to lift up your soul. #PixarSoul is now streaming on #DisneyPlus. https://t.co/DyyrI8ctN9\n",
      "\n",
      "\n",
      "Family makes every moment unforgettable. #PixarSoul is now streaming on #DisneyPlus. https://t.co/Fa8tgqs9Cu\n",
      "\n",
      "\n",
      "Pixar’s Soul is all that jazz. Go inside the musical mind of Jon Batiste and his original jazz music for the movie, now streaming on #DisneyPlus. 🎵 https://t.co/ThLhGhSdTP\n",
      "\n",
      "\n",
      "Hear from Giancarlo Esposito, the actor behind the iconic Imperial Moff Gideon, as he delves into the untold story of his time in a galaxy far, far away. Stream Seasons 1 and 2 of #TheMandalorian on #DisneyPlus. https://t.co/QSGSsaqZWD\n",
      "\n",
      "\n",
      "Ready for an influx of inspiration? The cast and crew of Soul is here to help aspiring artists achieve their dreams! #PixarSoul is now streaming on #DisneyPlus. https://t.co/XmVLcm71Kr\n",
      "\n",
      "\n",
      "Welcome to Westview 🏠 @WandaVision, an Original Series from Marvel Studios, starts streaming January 15 on @DisneyPlus. https://t.co/aCPOuOIngd\n",
      "\n",
      "\n",
      "Take a look behind the scenes of the second season. Disney Gallery: #TheMandalorian is back with an all-new special, “Making Season Two,” now streaming on #DisneyPlus. https://t.co/u3n8DaaFHI\n",
      "\n",
      "\n",
      ".@Pixar invites you to celebrate the holidays with #PixarSoul, now streaming on #DisneyPlus. https://t.co/vnd11wXPaF\n",
      "\n",
      "\n",
      "Every bunny’s talking about Burrow, @Pixar’s newest short! 🐰 Check out a sneak peek now and stream the short tomorrow on #DisneyPlus. https://t.co/b0vvUo5RQx\n",
      "\n",
      "\n",
      "A warm welcome to the newest marvelous magical mentor, Eleanor. ✨ #Godmothered is now streaming on #DisneyPlus. https://t.co/99UYn6MwcR\n",
      "\n",
      "\n",
      "The cast of Disney and Pixar’s Soul invites you to stream Pixar’s newest adventure this Friday only on #DisneyPlus. ✨ #PixarSoul https://t.co/bA9ZdtiGSq\n",
      "\n",
      "\n",
      "What makes you, you? Stream #PixarSoul this Friday on #DisneyPlus. https://t.co/dEtcgHmFPa\n",
      "\n",
      "\n",
      "You can count on it: In 5️ days, #PixarSoul is streaming only on #DisneyPlus. https://t.co/lU0jYeat38\n",
      "\n",
      "\n",
      "And they lived happily ever after. Marvel Studios' #WandaVision starts streaming January 15 on #DisneyPlus. https://t.co/30LGtUt4Ml\n",
      "\n",
      "\n",
      "Happy Holidays from Anna and Elsa! Gather ’round the fire and celebrate the season with the Arendelle Castle Yule Log. Now streaming on #DisneyPlus. https://t.co/xpynnPxysm\n",
      "\n",
      "\n",
      "“Find that thing that fuels your fire and keeps you going.” Discover your purpose with the cast of #PixarSoul. Stream the movie in just 1 week only on #DisneyPlus. https://t.co/o2Yn396rt1\n",
      "\n",
      "\n",
      "It’s all led to this. The season finale of #TheMandalorian is streaming Friday on #DisneyPlus. https://t.co/q7SUebb6Er\n",
      "\n",
      "\n",
      "Go beyond #TheMandalorian. Disney Gallery: The Mandalorian returns with a brand-new special, “Making of Season Two,” streaming December 25 on #DisneyPlus. https://t.co/Q9zLRhsqQw\n",
      "\n",
      "\n",
      "Enjoy this #HSMTMTS season 2 sneak peek of “Something in the Air” featured in High School Musical: The Musical: The Holiday Special, now streaming on #DisneyPlus. https://t.co/sQppwteFiX\n",
      "\n",
      "\n",
      "Enjoy every minute. 💙  Stream Disney and Pixar’s Soul when it arrives to #DisneyPlus this Christmas. #PixarSoul https://t.co/8aVJPkDHMa\n",
      "\n",
      "\n"
     ]
    }
   ],
   "source": [
    "# Input the word\n",
    "word = input('Word to search\\n')\n",
    "search_words(word)"
   ]
  },
  {
   "cell_type": "markdown",
   "id": "238265a6",
   "metadata": {},
   "source": [
    "## 7. Bar diagram"
   ]
  },
  {
   "cell_type": "markdown",
   "id": "8662ee75",
   "metadata": {},
   "source": [
    "### BOW"
   ]
  },
  {
   "cell_type": "code",
   "execution_count": 35,
   "id": "f03d3439",
   "metadata": {},
   "outputs": [
    {
     "data": {
      "image/png": "[encoded data removed]",
      "text/plain": [
       "<Figure size 432x288 with 1 Axes>"
      ]
     },
     "metadata": {
      "needs_background": "light"
     },
     "output_type": "display_data"
    },
    {
     "name": "stdout",
     "output_type": "stream",
     "text": [
      "Topic 1:\n",
      "0.096*\"disneydecad\" + 0.083*\"disneyplu\" + 0.075*\"stream\" + 0.057*\"new\" + 0.040*\"time\"\n",
      "Topic 2:\n",
      "0.100*\"stream\" + 0.098*\"watch\" + 0.087*\"disneyplu\" + 0.071*\"pixarluca\" + 0.065*\"new\"\n",
      "Topic 3:\n",
      "0.050*\"art\" + 0.049*\"disney\" + 0.049*\"theater\" + 0.045*\"access\" + 0.045*\"premier\"\n",
      "Topic 4:\n",
      "0.079*\"miss\" + 0.070*\"disneyplu\" + 0.052*\"stream\" + 0.050*\"pixar\" + 0.047*\"cast\"\n",
      "Topic 5:\n",
      "0.088*\"new\" + 0.060*\"disney\" + 0.043*\"disneyplu\" + 0.037*\"year\" + 0.034*\"disneyland\"\n"
     ]
    }
   ],
   "source": [
    "# Top 5 topics for given document - BOW\n",
    "top5_df = pd.DataFrame(columns=['Score', 'Topic'])\n",
    "top5_dict = dict()\n",
    "\n",
    "\n",
    "unseen_document = 'How many of you are waiting to watch the suicide squad movie in theatre'\n",
    "bow_vector = dictionary.doc2bow(preprocess(unseen_document))\n",
    "for index, score in sorted(lda_model[bow_vector], key=lambda tup: -1*tup[1])[:5]:\n",
    "    top5_dict['Score'] = score\n",
    "    top5_dict['Topic'] = lda_model.print_topic(index, 5)\n",
    "    \n",
    "    top5_df = top5_df.append(top5_dict, ignore_index=True)\n",
    "\n",
    "plt.bar(range(5), top5_df['Score'])\n",
    "plt.xticks(range(5), ['Topic ' + str(i+1) for i in range(5)] )\n",
    "plt.xlabel('Topic')\n",
    "plt.ylabel('Score')\n",
    "plt.show()\n",
    "\n",
    "for i in range(5):\n",
    "    print('Topic ' + str(i+1) + ':')\n",
    "    print(top5_df.iloc[i]['Topic'])"
   ]
  },
  {
   "cell_type": "markdown",
   "id": "7795ba22",
   "metadata": {},
   "source": [
    "### TD-IDF"
   ]
  },
  {
   "cell_type": "code",
   "execution_count": 36,
   "id": "5f2b13e9",
   "metadata": {},
   "outputs": [
    {
     "data": {
      "image/png": "[encoded data removed]",
      "text/plain": [
       "<Figure size 432x288 with 1 Axes>"
      ]
     },
     "metadata": {
      "needs_background": "light"
     },
     "output_type": "display_data"
    },
    {
     "name": "stdout",
     "output_type": "stream",
     "text": [
      "Topic 1:\n",
      "0.063*\"short\" + 0.062*\"film\" + 0.061*\"best\" + 0.059*\"life\" + 0.043*\"pixarluca\"\n",
      "Topic 2:\n",
      "0.059*\"stream\" + 0.053*\"disneyplu\" + 0.051*\"watch\" + 0.047*\"episod\" + 0.030*\"marvelstudio\"\n",
      "Topic 3:\n",
      "0.079*\"learn\" + 0.061*\"stori\" + 0.057*\"raya\" + 0.056*\"last\" + 0.054*\"dragon\"\n",
      "Topic 4:\n",
      "0.064*\"make\" + 0.052*\"moment\" + 0.051*\"experi\" + 0.048*\"miss\" + 0.031*\"pixarsoul\"\n",
      "Topic 5:\n",
      "0.038*\"theater\" + 0.037*\"cruella\" + 0.034*\"disney\" + 0.034*\"go\" + 0.032*\"fee\"\n"
     ]
    }
   ],
   "source": [
    "# Top 5 topics for given document - Td-Idf\n",
    "top5_df = pd.DataFrame(columns=['Score', 'Topic'])\n",
    "top5_dict = dict()\n",
    "\n",
    "\n",
    "unseen_document = 'How many of you are waiting to watch the suicide squad movie in theatre'\n",
    "bow_vector = dictionary.doc2bow(preprocess(unseen_document))\n",
    "for index, score in sorted(lda_model_tfidf[bow_vector], key=lambda tup: -1*tup[1])[:5]:\n",
    "    top5_dict['Score'] = score\n",
    "    top5_dict['Topic'] = lda_model_tfidf.print_topic(index, 5)\n",
    "    \n",
    "    top5_df = top5_df.append(top5_dict, ignore_index=True)\n",
    "\n",
    "plt.bar(range(5), top5_df['Score'])\n",
    "plt.xticks(range(5), ['Topic ' + str(i+1) for i in range(5)] )\n",
    "plt.xlabel('Topic')\n",
    "plt.ylabel('Score')\n",
    "plt.show()\n",
    "\n",
    "for i in range(5):\n",
    "    print('Topic ' + str(i+1) + ':')\n",
    "    print(top5_df.iloc[i]['Topic'])"
   ]
  },
  {
   "cell_type": "code",
   "execution_count": null,
   "id": "5b69af5c",
   "metadata": {},
   "outputs": [],
   "source": []
  }
 ],
 "metadata": {
  "kernelspec": {
   "display_name": "Python 3",
   "language": "python",
   "name": "python3"
  },
  "language_info": {
   "codemirror_mode": {
    "name": "ipython",
    "version": 3
   },
   "file_extension": ".py",
   "mimetype": "text/x-python",
   "name": "python",
   "nbconvert_exporter": "python",
   "pygments_lexer": "ipython3",
   "version": "3.8.3"
  }
 },
 "nbformat": 4,
 "nbformat_minor": 5
}
